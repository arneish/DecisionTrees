{
 "cells": [
  {
   "cell_type": "code",
   "execution_count": 143,
   "metadata": {
    "collapsed": true
   },
   "outputs": [],
   "source": [
    "import numpy as np\n",
    "import math"
   ]
  },
  {
   "cell_type": "code",
   "execution_count": 3,
   "metadata": {},
   "outputs": [
    {
     "name": "stdout",
     "output_type": "stream",
     "text": [
      "27000\n",
      "3000\n",
      "7000\n"
     ]
    }
   ],
   "source": [
    "import pickle\n",
    "pickle_in = open(\"data.pickle\", \"rb\")\n",
    "train = pickle.load(pickle_in)\n",
    "valid = pickle.load(pickle_in)\n",
    "test = pickle.load(pickle_in)\n",
    "print(len(train))\n",
    "print(len(valid))\n",
    "print(len(test))"
   ]
  },
  {
   "cell_type": "code",
   "execution_count": 51,
   "metadata": {},
   "outputs": [
    {
     "data": {
      "text/plain": [
       "array([1, 5, 0, 0, 1, 2, 8, 3, 0, 1, 1, 1, 1, 0])"
      ]
     },
     "execution_count": 51,
     "metadata": {},
     "output_type": "execute_result"
    }
   ],
   "source": [
    "train[0]\n",
    "traind[0]"
   ]
  },
  {
   "cell_type": "code",
   "execution_count": 68,
   "metadata": {},
   "outputs": [],
   "source": [
    "traind = np.zeros(shape=(len(train),14), dtype = np.int64)\n",
    "labeld = []\n",
    "for i in range(len(train)):\n",
    "    labeld.append(train[i][0])\n",
    "    traind[i] = train[i][1:]    "
   ]
  },
  {
   "cell_type": "code",
   "execution_count": 128,
   "metadata": {},
   "outputs": [],
   "source": [
    "#split_attr is the attribute that is CHOSEN by THAT node:\n",
    "#so meaningless for leaves\n",
    "#chd is a list of node objects [list of children]\n",
    "class Node(object):\n",
    "    leaf = False\n",
    "    result_leaf = -1\n",
    "    def __init__(self, split_attr, indices, chd):\n",
    "        self.split_attr = split_attr\n",
    "        self.indices = indices #list of input indices\n",
    "        self.chd = chd\n",
    "        isLeaf(self)\n",
    "        #self.ID = count \n",
    "        #count +=1\n",
    "    def isLeaf(self):\n",
    "        if (self.chd == None):\n",
    "            self.leaf = True\n",
    "            return True\n",
    "        for i in range(len(self.chd)):\n",
    "            if (self.chd[i]!=None):\n",
    "                return False    \n",
    "        self.leaf = True\n",
    "        return True "
   ]
  },
  {
   "cell_type": "code",
   "execution_count": 158,
   "metadata": {},
   "outputs": [
    {
     "data": {
      "text/plain": [
       "26999"
      ]
     },
     "execution_count": 158,
     "metadata": {},
     "output_type": "execute_result"
    }
   ],
   "source": [
    "init[-1]"
   ]
  },
  {
   "cell_type": "code",
   "execution_count": 155,
   "metadata": {
    "collapsed": true
   },
   "outputs": [],
   "source": [
    "#features available to be split-on\n",
    "attr_avail = [i for i in range(14)]\n",
    "init = [i for i in range(len(traind))]"
   ]
  },
  {
   "cell_type": "code",
   "execution_count": 164,
   "metadata": {},
   "outputs": [],
   "source": [
    "lol = [[]]*14\n",
    "lol[0] = [0,1]#age\n",
    "lol[1]=[i for i in range(8)]#wc\n",
    "lol[2] = [0,1]#fnlwgt\n",
    "lol[3]=[i for i in range(16)]#edu\n",
    "lol[4] = [0,1]#edun\n",
    "lol[5]=[i for i in range(7)]#mar\n",
    "lol[6]=[i for i in range(14)]#occ\n",
    "lol[7]=[i for i in range(6)]#rel\n",
    "lol[8]=[i for i in range(5)]#race\n",
    "lol[9]=[0,1]#sex\n",
    "lol[10] = [0,1]#capg\n",
    "lol[11] = [0,1]#capl\n",
    "lol[12] = [0,1]#hpw\n",
    "lol[13]=[i for i in range(41)]#nc"
   ]
  },
  {
   "cell_type": "code",
   "execution_count": 139,
   "metadata": {
    "collapsed": true
   },
   "outputs": [],
   "source": [
    "#rangeofval = listoflist of attribute values\n",
    "def Value_attr(best_attr):\n",
    "    global lol\n",
    "    return lol[best_attr]"
   ]
  },
  {
   "cell_type": "code",
   "execution_count": 202,
   "metadata": {},
   "outputs": [],
   "source": [
    "#S: list of indices of data[] at this node\n",
    "count_nodes = 0\n",
    "\n",
    "def GrowTree(S, data, label, attr_avail):\n",
    "    if (len(S)==0):\n",
    "        return None\n",
    "    global count_nodes\n",
    "    count_nodes+=1\n",
    "    #added one more node to the tree\n",
    "    purity = 1\n",
    "    for i in range(len(S)-1):\n",
    "        if (label[S[i]]!=label[S[i+1]]):\n",
    "            purity = 0\n",
    "            break\n",
    "    if (purity==1):\n",
    "        n = Node(-1, S, None)\n",
    "        n.result_leaf = label[S[0]]\n",
    "    else:\n",
    "        bestattr = choosebestattr(S, data, label, attr_avail)\n",
    "        val_bestattr = Value_attr(bestattr)\n",
    "        attr_avail.remove(bestattr) #remove from list of avl attr\n",
    "        list_chd = [] #list of children nodes for this node\n",
    "        splits = [[]]*len(val_bestattr)\n",
    "        for i in S:\n",
    "            splits[data[i][bestattr]].append(i)\n",
    "        for i in range(len(splits)):\n",
    "            list_chd.append(GrowTree(splits[i], data, label, attr_avail))\n",
    "        n = Node(bestattr, S, list_chd)\n",
    "    return n"
   ]
  },
  {
   "cell_type": "code",
   "execution_count": 220,
   "metadata": {},
   "outputs": [],
   "source": [
    "def choosebestattr(S, data, label, attr_avail):\n",
    "    global lol\n",
    "    TE ={} #[[1000]]*len(attr_avail)  \n",
    "    #store total entropy of splits - for each possible attribute-return min\n",
    "    for attr in attr_avail:\n",
    "        #split on this attribute\n",
    "        #print(\"attr:\", attr)\n",
    "        split=[[]]*len(lol[attr])\n",
    "        #print(\"len(lol[attr]):\", len(lol[attr]))\n",
    "        print(\"split size:\", len(split))\n",
    "        E = [[]]*len(lol[attr])\n",
    "        #print(\"E size:\", len(E))\n",
    "        for j in S:\n",
    "            split[data[j][attr]].append(j)\n",
    "        for i in range(len(split)):\n",
    "                count_p=0 #1==rich\n",
    "                count_n=0 #0==poor\n",
    "                for j in split[i]:\n",
    "                    if (label[j]==1):\n",
    "                        count_p+=1\n",
    "                    else:\n",
    "                        count_n+=1\n",
    "                p = (count_p)/(count_p+count_n)\n",
    "                E[i]=-1*(p*math.log(p, 2)+(1.0-p)*math.log((1.0-p), 2))\n",
    "                E[i]*=(count_p+count_n)/(len(S))\n",
    "                print(E[i])\n",
    "        print(\"attr\", attr)\n",
    "        TE[attr]=sum(E)\n",
    "    print(\"about to return:\", len(TE))\n",
    "    return min(TE, key=TE.get)\n",
    "   "
   ]
  },
  {
   "cell_type": "code",
   "execution_count": 221,
   "metadata": {},
   "outputs": [
    {
     "name": "stdout",
     "output_type": "stream",
     "text": [
      "about to return: 0\n"
     ]
    },
    {
     "ename": "ValueError",
     "evalue": "min() arg is an empty sequence",
     "output_type": "error",
     "traceback": [
      "\u001b[0;31m---------------------------------------------------------------------------\u001b[0m",
      "\u001b[0;31mValueError\u001b[0m                                Traceback (most recent call last)",
      "\u001b[0;32m<ipython-input-221-7a8f2885f4ba>\u001b[0m in \u001b[0;36m<module>\u001b[0;34m()\u001b[0m\n\u001b[0;32m----> 1\u001b[0;31m \u001b[0mGrowTree\u001b[0m\u001b[0;34m(\u001b[0m\u001b[0minit\u001b[0m\u001b[0;34m,\u001b[0m \u001b[0mtraind\u001b[0m\u001b[0;34m,\u001b[0m \u001b[0mlabeld\u001b[0m\u001b[0;34m,\u001b[0m\u001b[0mattr_avail\u001b[0m\u001b[0;34m)\u001b[0m\u001b[0;34m\u001b[0m\u001b[0m\n\u001b[0m",
      "\u001b[0;32m<ipython-input-202-bcc22af99b7d>\u001b[0m in \u001b[0;36mGrowTree\u001b[0;34m(S, data, label, attr_avail)\u001b[0m\n\u001b[1;32m     17\u001b[0m         \u001b[0mn\u001b[0m\u001b[0;34m.\u001b[0m\u001b[0mresult_leaf\u001b[0m \u001b[0;34m=\u001b[0m \u001b[0mlabel\u001b[0m\u001b[0;34m[\u001b[0m\u001b[0mS\u001b[0m\u001b[0;34m[\u001b[0m\u001b[0;36m0\u001b[0m\u001b[0;34m]\u001b[0m\u001b[0;34m]\u001b[0m\u001b[0;34m\u001b[0m\u001b[0m\n\u001b[1;32m     18\u001b[0m     \u001b[0;32melse\u001b[0m\u001b[0;34m:\u001b[0m\u001b[0;34m\u001b[0m\u001b[0m\n\u001b[0;32m---> 19\u001b[0;31m         \u001b[0mbestattr\u001b[0m \u001b[0;34m=\u001b[0m \u001b[0mchoosebestattr\u001b[0m\u001b[0;34m(\u001b[0m\u001b[0mS\u001b[0m\u001b[0;34m,\u001b[0m \u001b[0mdata\u001b[0m\u001b[0;34m,\u001b[0m \u001b[0mlabel\u001b[0m\u001b[0;34m,\u001b[0m \u001b[0mattr_avail\u001b[0m\u001b[0;34m)\u001b[0m\u001b[0;34m\u001b[0m\u001b[0m\n\u001b[0m\u001b[1;32m     20\u001b[0m         \u001b[0mval_bestattr\u001b[0m \u001b[0;34m=\u001b[0m \u001b[0mValue_attr\u001b[0m\u001b[0;34m(\u001b[0m\u001b[0mbestattr\u001b[0m\u001b[0;34m)\u001b[0m\u001b[0;34m\u001b[0m\u001b[0m\n\u001b[1;32m     21\u001b[0m         \u001b[0mattr_avail\u001b[0m\u001b[0;34m.\u001b[0m\u001b[0mremove\u001b[0m\u001b[0;34m(\u001b[0m\u001b[0mbestattr\u001b[0m\u001b[0;34m)\u001b[0m \u001b[0;31m#remove from list of avl attr\u001b[0m\u001b[0;34m\u001b[0m\u001b[0m\n",
      "\u001b[0;32m<ipython-input-220-07bcdb4f2e17>\u001b[0m in \u001b[0;36mchoosebestattr\u001b[0;34m(S, data, label, attr_avail)\u001b[0m\n\u001b[1;32m     28\u001b[0m         \u001b[0mTE\u001b[0m\u001b[0;34m[\u001b[0m\u001b[0mattr\u001b[0m\u001b[0;34m]\u001b[0m\u001b[0;34m=\u001b[0m\u001b[0msum\u001b[0m\u001b[0;34m(\u001b[0m\u001b[0mE\u001b[0m\u001b[0;34m)\u001b[0m\u001b[0;34m\u001b[0m\u001b[0m\n\u001b[1;32m     29\u001b[0m     \u001b[0mprint\u001b[0m\u001b[0;34m(\u001b[0m\u001b[0;34m\"about to return:\"\u001b[0m\u001b[0;34m,\u001b[0m \u001b[0mlen\u001b[0m\u001b[0;34m(\u001b[0m\u001b[0mTE\u001b[0m\u001b[0;34m)\u001b[0m\u001b[0;34m)\u001b[0m\u001b[0;34m\u001b[0m\u001b[0m\n\u001b[0;32m---> 30\u001b[0;31m     \u001b[0;32mreturn\u001b[0m \u001b[0mmin\u001b[0m\u001b[0;34m(\u001b[0m\u001b[0mTE\u001b[0m\u001b[0;34m,\u001b[0m \u001b[0mkey\u001b[0m\u001b[0;34m=\u001b[0m\u001b[0mTE\u001b[0m\u001b[0;34m.\u001b[0m\u001b[0mget\u001b[0m\u001b[0;34m)\u001b[0m\u001b[0;34m\u001b[0m\u001b[0m\n\u001b[0m\u001b[1;32m     31\u001b[0m \u001b[0;34m\u001b[0m\u001b[0m\n",
      "\u001b[0;31mValueError\u001b[0m: min() arg is an empty sequence"
     ]
    }
   ],
   "source": [
    "GrowTree(init, traind, labeld,attr_avail)"
   ]
  },
  {
   "cell_type": "code",
   "execution_count": 153,
   "metadata": {},
   "outputs": [
    {
     "data": {
      "text/plain": [
       "'c'"
      ]
     },
     "execution_count": 153,
     "metadata": {},
     "output_type": "execute_result"
    }
   ],
   "source": [
    "min(dict, key=dict.get)"
   ]
  },
  {
   "cell_type": "code",
   "execution_count": 146,
   "metadata": {},
   "outputs": [
    {
     "ename": "AttributeError",
     "evalue": "'dict' object has no attribute 'append'",
     "output_type": "error",
     "traceback": [
      "\u001b[0;31m---------------------------------------------------------------------------\u001b[0m",
      "\u001b[0;31mAttributeError\u001b[0m                            Traceback (most recent call last)",
      "\u001b[0;32m<ipython-input-146-016dbc264919>\u001b[0m in \u001b[0;36m<module>\u001b[0;34m()\u001b[0m\n\u001b[0;32m----> 1\u001b[0;31m \u001b[0mdict\u001b[0m\u001b[0;34m.\u001b[0m\u001b[0mappend\u001b[0m\u001b[0;34m(\u001b[0m\u001b[0;36m4\u001b[0m\u001b[0;34m,\u001b[0m\u001b[0;36m300\u001b[0m\u001b[0;34m)\u001b[0m\u001b[0;34m\u001b[0m\u001b[0m\n\u001b[0m",
      "\u001b[0;31mAttributeError\u001b[0m: 'dict' object has no attribute 'append'"
     ]
    }
   ],
   "source": [
    "dict(4,300)"
   ]
  },
  {
   "cell_type": "code",
   "execution_count": 189,
   "metadata": {},
   "outputs": [],
   "source": [
    "P = [[]]*5\n",
    "P[1]=2\n",
    "P[2]=5\n",
    "P[3]=-2\n",
    "P[4]=4\n",
    "P[0]=6\n",
    "\n"
   ]
  },
  {
   "cell_type": "code",
   "execution_count": 219,
   "metadata": {},
   "outputs": [
    {
     "name": "stdout",
     "output_type": "stream",
     "text": [
      "{1: 5}\n"
     ]
    }
   ],
   "source": [
    "u = {}\n",
    "u[1]=5\n",
    "print(u)"
   ]
  },
  {
   "cell_type": "code",
   "execution_count": null,
   "metadata": {
    "collapsed": true
   },
   "outputs": [],
   "source": []
  }
 ],
 "metadata": {
  "kernelspec": {
   "display_name": "Python 3",
   "language": "python",
   "name": "python3"
  },
  "language_info": {
   "codemirror_mode": {
    "name": "ipython",
    "version": 3
   },
   "file_extension": ".py",
   "mimetype": "text/x-python",
   "name": "python",
   "nbconvert_exporter": "python",
   "pygments_lexer": "ipython3",
   "version": "3.6.4"
  }
 },
 "nbformat": 4,
 "nbformat_minor": 2
}
